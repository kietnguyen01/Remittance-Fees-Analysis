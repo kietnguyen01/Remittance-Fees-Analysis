{
 "cells": [
  {
   "cell_type": "code",
   "execution_count": 1,
   "metadata": {},
   "outputs": [],
   "source": [
    "import import_ipynb\n",
    "import polars as pl\n",
    "import coingecko_api as ca"
   ]
  },
  {
   "cell_type": "code",
   "execution_count": null,
   "metadata": {},
   "outputs": [],
   "source": [
    "def clean_xrp_bsv(scraped: dict) -> dict:\n",
    "    \"\"\"Calculate average_transaction_fees for XRP/BSV dataframes. Merge API and Messari dataframes for those projects\"\"\"\n",
    "    # Merge XRP and BSV dataframes\n",
    "    for name in ['xrp', 'bsv']:\n",
    "        scraped[name] = scraped[f'{name}_bit'].join(scraped[f'{name}_mes'], on='date', how='inner')\n",
    "        # Calculate average_transaction_fees column\n",
    "        scraped[name] = scraped[name].with_columns((pl.col(\"total_fees\") / pl.col(\"transactions_count\")).alias(\"average_transaction_fees\"))\n",
    "        # Drop total_fees column\n",
    "        scraped[name] = scraped[name].drop('total_fees')\n",
    "    return scraped"
   ]
  },
  {
   "cell_type": "code",
   "execution_count": null,
   "metadata": {},
   "outputs": [],
   "source": [
    "def merge_api_scraped(filled_api: dict, filled_scraped: dict, names: list) -> dict:\n",
    "    \"\"\"Merge API and scraped data into a single dictionary of dataframes\"\"\"\n",
    "    # Fill missing dates in Messari data with null values\n",
    "    for name in ['xrp_mes', 'bsv_mes', 'xlm']:\n",
    "        filled_scraped[name] = ca.fill_date(filled_scraped[name])\n",
    "\n",
    "    # Clean XRP and BSV dataframes\n",
    "    clean_xrp_bsv(filled_scraped)\n",
    "\n",
    "    # Merge API and scraped data\n",
    "    combined = {}\n",
    "    for name in names:\n",
    "        combined[name] = filled_api[name].join(filled_scraped[name], on='date', how='inner')\n",
    "    \n",
    "    return combined"
   ]
  }
 ],
 "metadata": {
  "kernelspec": {
   "display_name": "venv",
   "language": "python",
   "name": "python3"
  },
  "language_info": {
   "codemirror_mode": {
    "name": "ipython",
    "version": 3
   },
   "file_extension": ".py",
   "mimetype": "text/x-python",
   "name": "python",
   "nbconvert_exporter": "python",
   "pygments_lexer": "ipython3",
   "version": "3.11.1"
  },
  "orig_nbformat": 4
 },
 "nbformat": 4,
 "nbformat_minor": 2
}
