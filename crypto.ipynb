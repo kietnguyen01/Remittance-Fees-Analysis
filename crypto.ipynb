{
 "cells": [
  {
   "cell_type": "code",
   "execution_count": 1,
   "metadata": {},
   "outputs": [
    {
     "name": "stdout",
     "output_type": "stream",
     "text": [
      "importing Jupyter notebook from crypto_api.ipynb\n",
      "importing Jupyter notebook from crypto_scrape.ipynb\n"
     ]
    }
   ],
   "source": [
    "import os\n",
    "import xlsxwriter\n",
    "import import_ipynb\n",
    "import crypto_api as ca\n",
    "import crypto_scrape as cs\n",
    "from selenium import webdriver\n",
    "from selenium.webdriver.chrome.options import Options"
   ]
  },
  {
   "cell_type": "code",
   "execution_count": 2,
   "metadata": {},
   "outputs": [],
   "source": [
    "def create_excel(path: str, data: dict):\n",
    "    \"\"\"Creates an Excel file with dict of Polars dataframes\"\"\"\n",
    "    with xlsxwriter.Workbook(path) as workbook:\n",
    "        for key, df in data.items():\n",
    "            workbook.add_worksheet(key)\n",
    "            df.write_excel(workbook=workbook, worksheet=key)"
   ]
  },
  {
   "cell_type": "code",
   "execution_count": 3,
   "metadata": {},
   "outputs": [],
   "source": [
    "# List of crypto symbols and IDs\n",
    "syms = ['btc', 'xrp', 'doge', 'ltc', 'xmr', 'bch', 'xlm', 'bsv', 'zec', 'dash']\n",
    "cids = ['bitcoin', 'ripple', 'dogecoin', 'litecoin', 'monero', 'bitcoin-cash', 'stellar', 'bitcoin-cash-sv', 'zcash', 'dash']\n",
    "\n",
    "# Variables for API call\n",
    "currency = 'usd'\n",
    "start_date = '2019/01/01'\n",
    "end_date = '2022/12/31'"
   ]
  },
  {
   "cell_type": "code",
   "execution_count": 4,
   "metadata": {},
   "outputs": [],
   "source": [
    "# Create dictionary of API dataframes\n",
    "crypto = ca.create_api_dict(syms, cids, currency, start_date, end_date)"
   ]
  },
  {
   "cell_type": "code",
   "execution_count": 5,
   "metadata": {},
   "outputs": [],
   "source": [
    "# Create Excel file with API data\n",
    "file_path = os.path.join(\"data\", \"api-data.xlsx\")\n",
    "create_excel(file_path, crypto)"
   ]
  },
  {
   "cell_type": "code",
   "execution_count": 6,
   "metadata": {},
   "outputs": [],
   "source": [
    "# Set up Chrome headless options\n",
    "chrome_options = Options()\n",
    "chrome_options.add_argument('--headless')\n",
    "chrome_options.add_argument('--disable-gpu')\n",
    "\n",
    "# Set up the webdriver with the Chrome options\n",
    "driver = webdriver.Chrome(options=chrome_options)"
   ]
  },
  {
   "cell_type": "code",
   "execution_count": 7,
   "metadata": {},
   "outputs": [],
   "source": [
    "# Dict of token stats list for scraping\n",
    "token_stats = {\n",
    "    'btc': ['bitcoin-transactions', 'bitcoin-transactionvalue', 'bitcoin-mediantransactionvalue', 'bitcoin-transactionfees', 'bitcoin-median_transaction_fee'],\n",
    "    'xrp': ['xrp-transactions', 'transactionfees-xrp'],\n",
    "    'doge': ['dogecoin-transactions', 'dogecoin-transactionvalue', 'dogecoin-mediantransactionvalue', 'dogecoin-transactionfees', 'dogecoin-median_transaction_fee'],\n",
    "    'ltc': ['litecoin-transactions', 'litecoin-transactionvalue', 'litecoin-mediantransactionvalue', 'litecoin-transactionfees', 'litecoin-median_transaction_fee'],\n",
    "    'xmr': ['monero-transactions', 'monero-transactionfees'],\n",
    "    'bsv': ['transactions-bsv'],\n",
    "    'bch': ['bitcoin%20cash-transactions', 'bitcoin%20cash-transactionvalue', 'bitcoin%20cash-mediantransactionvalue', 'bitcoin%20cash-transactionfees', 'bitcoin%20cash-median_transaction_fee'],\n",
    "    'zec': ['zcash-transactions', 'zcash-transactionfees', 'transactionvalue-zec', 'mediantransactionvalue-zec'],\n",
    "    'dash': ['dash-transactions', 'dash-transactionfees', 'dash-median_transaction_fee', 'transactionvalue-dash', 'mediantransactionvalue-dash']\n",
    "}"
   ]
  },
  {
   "cell_type": "code",
   "execution_count": 8,
   "metadata": {},
   "outputs": [],
   "source": [
    "# Create dict of scraped dataframes\n",
    "scrape_dict = cs.create_scrape_dict(token_stats, driver, start_date, end_date)"
   ]
  },
  {
   "cell_type": "code",
   "execution_count": 9,
   "metadata": {},
   "outputs": [],
   "source": [
    "# Create Excel file with scraped data\n",
    "file_path = os.path.join(\"data\", \"scraped-data.xlsx\")\n",
    "create_excel(file_path, scrape_dict)"
   ]
  }
 ],
 "metadata": {
  "kernelspec": {
   "display_name": "venv",
   "language": "python",
   "name": "python3"
  },
  "language_info": {
   "codemirror_mode": {
    "name": "ipython",
    "version": 3
   },
   "file_extension": ".py",
   "mimetype": "text/x-python",
   "name": "python",
   "nbconvert_exporter": "python",
   "pygments_lexer": "ipython3",
   "version": "3.11.1"
  },
  "orig_nbformat": 4
 },
 "nbformat": 4,
 "nbformat_minor": 2
}
