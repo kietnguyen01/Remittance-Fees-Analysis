{
 "cells": [
  {
   "cell_type": "code",
   "execution_count": 1,
   "metadata": {},
   "outputs": [
    {
     "name": "stdout",
     "output_type": "stream",
     "text": [
      "importing Jupyter notebook from c:\\Users\\nguye\\Documents\\Sonderium\\Projects\\Remittance-Fees-Analysis\\rfa_utils\\general_fns.ipynb\n"
     ]
    }
   ],
   "source": [
    "import os\n",
    "import polars as pl\n",
    "import import_ipynb\n",
    "import rfa_utils.general_fns as gf"
   ]
  },
  {
   "cell_type": "code",
   "execution_count": 2,
   "metadata": {},
   "outputs": [],
   "source": [
    "# List of Excel sheet names and dict key IDs\n",
    "names = ['country-lookup', 'special-groups', 'personal-paid', 'personal-received', 'percent-gdp-received', 'cost-to-country', 'cost-from-country', 'inflows' , 'outflows']\n",
    "ids = ['lookup', 'group', 'paid', 'received', 'gdp', 'cost_to', 'cost_from', 'inflow', 'outflow']"
   ]
  },
  {
   "cell_type": "code",
   "execution_count": 3,
   "metadata": {},
   "outputs": [],
   "source": [
    "# Import Excel file\n",
    "remit_data = gf.import_excel(\n",
    "    'data/remittance/remittance-data.xlsx',\n",
    "    names\n",
    ")\n",
    "\n",
    "# Rename dataframes\n",
    "for new, old in zip(ids, list(remit_data.keys())):\n",
    "    remit_data[new] = remit_data.pop(old)"
   ]
  },
  {
   "cell_type": "code",
   "execution_count": null,
   "metadata": {},
   "outputs": [],
   "source": []
  }
 ],
 "metadata": {
  "kernelspec": {
   "display_name": "venv",
   "language": "python",
   "name": "python3"
  },
  "language_info": {
   "codemirror_mode": {
    "name": "ipython",
    "version": 3
   },
   "file_extension": ".py",
   "mimetype": "text/x-python",
   "name": "python",
   "nbconvert_exporter": "python",
   "pygments_lexer": "ipython3",
   "version": "3.11.1"
  },
  "orig_nbformat": 4
 },
 "nbformat": 4,
 "nbformat_minor": 2
}
