{
 "cells": [
  {
   "cell_type": "code",
   "execution_count": 1,
   "metadata": {},
   "outputs": [],
   "source": [
    "import polars as pl\n",
    "from time import sleep\n",
    "from pycoingecko import CoinGeckoAPI\n",
    "from datetime import datetime, timezone\n",
    "\n",
    "cg = CoinGeckoAPI()"
   ]
  },
  {
   "cell_type": "code",
   "execution_count": 2,
   "metadata": {},
   "outputs": [],
   "source": [
    "def unix_time(date: str) -> float:\n",
    "    \"\"\"Take in date in MM/DD/YYYY format and return UNIX timestamp float\"\"\"\n",
    "    stamp = datetime.strptime(date, '%Y/%m/%d')\n",
    "    return stamp.replace(tzinfo=timezone.utc).timestamp()"
   ]
  },
  {
   "cell_type": "code",
   "execution_count": 3,
   "metadata": {},
   "outputs": [],
   "source": [
    "def api_call(name: str, currency: str, start: str, end: str) -> dict:\n",
    "    \"\"\"Make a call to the CoinGecko API and return the JSON response\"\"\"\n",
    "    unix_start = unix_time(start)\n",
    "    unix_end = unix_time(end)\n",
    "    data = cg.get_coin_market_chart_range_by_id(\n",
    "        id=name, \n",
    "        vs_currency=currency, \n",
    "        from_timestamp=unix_start, \n",
    "        to_timestamp=unix_end\n",
    "    )\n",
    "    sleep(3)\n",
    "    return data"
   ]
  },
  {
   "cell_type": "code",
   "execution_count": 4,
   "metadata": {},
   "outputs": [],
   "source": [
    "def extract_json(data: dict) -> dict:\n",
    "    \"\"\"\"Extracts data from JSON and returns a dictionary without the timestamps\"\"\"\n",
    "    data_points = {}\n",
    "    timestamps_added = False  # Flag for adding timestamps to dict\n",
    "    for key, value in data.items():\n",
    "        if not timestamps_added:\n",
    "            data_points['timestamps'] = [x[0] for x in value]\n",
    "            timestamps_added = True\n",
    "        # Use list comprehension to get the second element of each sublist in value\n",
    "        data_points[key] = [x[1] for x in value]\n",
    "    return data_points"
   ]
  },
  {
   "cell_type": "code",
   "execution_count": 5,
   "metadata": {},
   "outputs": [],
   "source": [
    "def create_df(name: str, currency: str, start: str, end: str) -> pl.DataFrame:\n",
    "    \"\"\"Create Polars dataframe from API data\"\"\"\n",
    "    json = api_call(name, currency, start, end)\n",
    "    data = extract_json(json)\n",
    "    df = pl.DataFrame(data)\n",
    "    # Apply lambda function to the timestamps column and create a date column\n",
    "    date_series = df['timestamps'].apply(lambda x: datetime.fromtimestamp(x/1000).date())\n",
    "    df = df.with_columns([date_series.alias('date')])\n",
    "    df = df.drop('timestamps')\n",
    "    # Reorder date column to the first position\n",
    "    df = df.select(['date', *df.columns[:-1]])\n",
    "    return df"
   ]
  },
  {
   "cell_type": "code",
   "execution_count": 6,
   "metadata": {},
   "outputs": [],
   "source": [
    "def create_api_dict(symbols: list, ids: list, currency: str, start: str, end: str) -> dict:\n",
    "    \"\"\"Create a dictionary of Polars dataframes for each crypto id\"\"\"\n",
    "    crypto_dict = {}\n",
    "    for symbol, id in zip(symbols, ids):\n",
    "        df = create_df(id, currency, start, end)\n",
    "        crypto_dict[symbol] = df\n",
    "    return crypto_dict"
   ]
  }
 ],
 "metadata": {
  "kernelspec": {
   "display_name": "venv",
   "language": "python",
   "name": "python3"
  },
  "language_info": {
   "codemirror_mode": {
    "name": "ipython",
    "version": 3
   },
   "file_extension": ".py",
   "mimetype": "text/x-python",
   "name": "python",
   "nbconvert_exporter": "python",
   "pygments_lexer": "ipython3",
   "version": "3.11.1"
  },
  "orig_nbformat": 4
 },
 "nbformat": 4,
 "nbformat_minor": 2
}
