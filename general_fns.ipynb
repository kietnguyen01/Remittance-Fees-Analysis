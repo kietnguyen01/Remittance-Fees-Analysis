{
 "cells": [
  {
   "cell_type": "code",
   "execution_count": 1,
   "metadata": {},
   "outputs": [],
   "source": [
    "import xlsxwriter\n",
    "import polars as pl"
   ]
  },
  {
   "cell_type": "code",
   "execution_count": null,
   "metadata": {},
   "outputs": [],
   "source": [
    "def create_excel(path: str, data: dict or pl.DataFrame):\n",
    "    \"\"\"Creates an Excel file with dict of dataframes or a single dataframe\"\"\"\n",
    "    with xlsxwriter.Workbook(path) as workbook:\n",
    "        # Check if the data is a dict or a dataframe\n",
    "        if isinstance(data, dict):\n",
    "            # Loop over the dict and write each dataframe to a worksheet\n",
    "            for key, df in data.items():\n",
    "                workbook.add_worksheet(key)\n",
    "                df.write_excel(workbook=workbook, worksheet=key)\n",
    "        elif isinstance(data, pl.DataFrame):\n",
    "            # Write the dataframe to the default worksheet\n",
    "            data.write_excel(workbook=workbook)\n",
    "        else:\n",
    "            # Raise an error if the data is not a dict or a dataframe\n",
    "            raise TypeError(\"Data must be a dictionary of Polars dataframes or a single Polars dataframe.\")"
   ]
  },
  {
   "cell_type": "code",
   "execution_count": 3,
   "metadata": {},
   "outputs": [],
   "source": [
    "def import_excel(path: str, names: list):\n",
    "    \"\"\"Create dict of dataframes from Excel sheets\"\"\"\n",
    "    data = {}\n",
    "    for name in names:\n",
    "        data[name] = pl.read_excel(\n",
    "            path, \n",
    "            sheet_name=name,\n",
    "            read_csv_options={\n",
    "                'infer_schema_length': 2000,\n",
    "                'dtypes': {'date': pl.Date}\n",
    "            }\n",
    "        )\n",
    "    return data"
   ]
  },
  {
   "cell_type": "code",
   "execution_count": null,
   "metadata": {},
   "outputs": [],
   "source": []
  }
 ],
 "metadata": {
  "kernelspec": {
   "display_name": "venv",
   "language": "python",
   "name": "python3"
  },
  "language_info": {
   "codemirror_mode": {
    "name": "ipython",
    "version": 3
   },
   "file_extension": ".py",
   "mimetype": "text/x-python",
   "name": "python",
   "nbconvert_exporter": "python",
   "pygments_lexer": "ipython3",
   "version": "3.11.1"
  },
  "orig_nbformat": 4
 },
 "nbformat": 4,
 "nbformat_minor": 2
}
