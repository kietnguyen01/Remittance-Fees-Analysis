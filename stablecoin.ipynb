{
 "cells": [
  {
   "cell_type": "code",
   "execution_count": 1,
   "metadata": {},
   "outputs": [
    {
     "name": "stdout",
     "output_type": "stream",
     "text": [
      "importing Jupyter notebook from c:\\Users\\nguye\\Documents\\Sonderium\\Projects\\Remittance-Fees-Analysis\\rfa_utils\\general_fns.ipynb\n",
      "importing Jupyter notebook from c:\\Users\\nguye\\Documents\\Sonderium\\Projects\\Remittance-Fees-Analysis\\rfa_utils\\owlracle_api.ipynb\n",
      "importing Jupyter notebook from c:\\Users\\nguye\\Documents\\Sonderium\\Projects\\Remittance-Fees-Analysis\\rfa_utils\\clean_crypto.ipynb\n"
     ]
    },
    {
     "ename": "ModuleNotFoundError",
     "evalue": "No module named 'coingecko_api'",
     "output_type": "error",
     "traceback": [
      "\u001b[1;31m---------------------------------------------------------------------------\u001b[0m",
      "\u001b[1;31mModuleNotFoundError\u001b[0m                       Traceback (most recent call last)",
      "Cell \u001b[1;32mIn[1], line 6\u001b[0m\n\u001b[0;32m      4\u001b[0m \u001b[39mimport\u001b[39;00m \u001b[39mrfa_utils\u001b[39;00m\u001b[39m.\u001b[39;00m\u001b[39mgeneral_fns\u001b[39;00m \u001b[39mas\u001b[39;00m \u001b[39mgf\u001b[39;00m\n\u001b[0;32m      5\u001b[0m \u001b[39mimport\u001b[39;00m \u001b[39mrfa_utils\u001b[39;00m\u001b[39m.\u001b[39;00m\u001b[39mowlracle_api\u001b[39;00m \u001b[39mas\u001b[39;00m \u001b[39moa\u001b[39;00m\n\u001b[1;32m----> 6\u001b[0m \u001b[39mimport\u001b[39;00m \u001b[39mrfa_utils\u001b[39;00m\u001b[39m.\u001b[39;00m\u001b[39mclean_crypto\u001b[39;00m \u001b[39mas\u001b[39;00m \u001b[39mcc\u001b[39;00m\n\u001b[0;32m      7\u001b[0m \u001b[39mimport\u001b[39;00m \u001b[39mrfa_utils\u001b[39;00m\u001b[39m.\u001b[39;00m\u001b[39mcoingecko_api\u001b[39;00m \u001b[39mas\u001b[39;00m \u001b[39mca\u001b[39;00m\n",
      "File \u001b[1;32mc:\\Users\\nguye\\Documents\\Sonderium\\Projects\\Remittance-Fees-Analysis\\venv\\Lib\\site-packages\\import_ipynb.py:61\u001b[0m, in \u001b[0;36mNotebookLoader.load_module\u001b[1;34m(self, fullname)\u001b[0m\n\u001b[0;32m     59\u001b[0m         code \u001b[39m=\u001b[39m \u001b[39mself\u001b[39m\u001b[39m.\u001b[39mshell\u001b[39m.\u001b[39minput_transformer_manager\u001b[39m.\u001b[39mtransform_cell(cell\u001b[39m.\u001b[39msource)\n\u001b[0;32m     60\u001b[0m         \u001b[39m# run the code in themodule\u001b[39;00m\n\u001b[1;32m---> 61\u001b[0m         exec(code, mod\u001b[39m.\u001b[39m\u001b[39m__dict__\u001b[39m)\n\u001b[0;32m     62\u001b[0m \u001b[39mfinally\u001b[39;00m:\n\u001b[0;32m     63\u001b[0m     \u001b[39mself\u001b[39m\u001b[39m.\u001b[39mshell\u001b[39m.\u001b[39muser_ns \u001b[39m=\u001b[39m save_user_ns\n",
      "File \u001b[1;32m<string>:5\u001b[0m\n",
      "\u001b[1;31mModuleNotFoundError\u001b[0m: No module named 'coingecko_api'"
     ]
    }
   ],
   "source": [
    "import os\n",
    "import polars as pl\n",
    "import import_ipynb\n",
    "import rfa_utils.general_fns as gf\n",
    "import rfa_utils.owlracle_api as oa\n",
    "import rfa_utils.clean_crypto as cc\n",
    "import rfa_utils.coingecko_api as ca"
   ]
  },
  {
   "cell_type": "code",
   "execution_count": 2,
   "metadata": {},
   "outputs": [],
   "source": [
    "# List of stablecoin symbols and IDs\n",
    "syms = ['usdt', 'usdc', 'busd', 'dai', 'tusd', 'usdp', 'gusd']\n",
    "sids = ['tether', 'usd-coin', 'binance-usd', 'dai', 'true-usd', 'paxos-standard', 'gemini-dollar']\n",
    "\n",
    "# Variables for API call\n",
    "currency = 'usd'\n",
    "start_date = '2019/01/01'\n",
    "end_date = '2022/12/31'"
   ]
  },
  {
   "cell_type": "code",
   "execution_count": 3,
   "metadata": {},
   "outputs": [],
   "source": [
    "# Check and create API data\n",
    "api_path = os.path.join(\"data/stablecoin/\", \"api-data.xlsx\")\n",
    "gf.check_and_create(api_path, ca.create_api_dict, syms, sids, currency, start_date, end_date)"
   ]
  },
  {
   "cell_type": "code",
   "execution_count": 4,
   "metadata": {},
   "outputs": [],
   "source": [
    "# Check and create fees data\n",
    "fees_path = os.path.join(\"data/stablecoin/\", \"fees-data.xlsx\")\n",
    "gf.check_and_create(fees_path, oa.create_df, start_date, end_date)"
   ]
  },
  {
   "cell_type": "code",
   "execution_count": 5,
   "metadata": {},
   "outputs": [],
   "source": [
    "# Check if file already exists\n",
    "combined_path = os.path.join(\"data/stablecoin/\", \"combined-data.xlsx\")\n",
    "if not os.path.exists(combined_path):\n",
    "    # Import Excel files into variables\n",
    "    api_import = gf.import_excel(\n",
    "        'data/stablecoin/api-data.xlsx',\n",
    "        syms\n",
    "    )\n",
    "    fees_import = gf.import_excel(\n",
    "        'data/stablecoin/fees-data.xlsx',\n",
    "        ['Sheet1']\n",
    "    )\n",
    "    # Add the fees dataframe to the API data\n",
    "    api_import['fees'] = fees_import['Sheet1']\n",
    "    # Create Excel file with combined data\n",
    "    gf.create_excel(combined_path, api_import)"
   ]
  },
  {
   "cell_type": "code",
   "execution_count": 6,
   "metadata": {},
   "outputs": [],
   "source": [
    "# Import combined data\n",
    "syms.append('fees')\n",
    "combined = gf.import_excel(\n",
    "    combined_path,\n",
    "    syms\n",
    ")\n",
    "\n",
    "# Impute column missing values with miceforest\n",
    "imputed = cc.impute_dfs(combined)\n",
    "\n",
    "# Winsorize fees column\n",
    "imputed['fees'] = cc.winsorize_df(imputed['fees'], (0.01, 0.01))"
   ]
  },
  {
   "cell_type": "code",
   "execution_count": null,
   "metadata": {},
   "outputs": [],
   "source": []
  }
 ],
 "metadata": {
  "kernelspec": {
   "display_name": "venv",
   "language": "python",
   "name": "python3"
  },
  "language_info": {
   "codemirror_mode": {
    "name": "ipython",
    "version": 3
   },
   "file_extension": ".py",
   "mimetype": "text/x-python",
   "name": "python",
   "nbconvert_exporter": "python",
   "pygments_lexer": "ipython3",
   "version": "3.11.1"
  },
  "orig_nbformat": 4
 },
 "nbformat": 4,
 "nbformat_minor": 2
}
