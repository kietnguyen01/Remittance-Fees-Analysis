{
 "cells": [
  {
   "cell_type": "code",
   "execution_count": 1,
   "metadata": {},
   "outputs": [
    {
     "name": "stdout",
     "output_type": "stream",
     "text": [
      "importing Jupyter notebook from crypto_api.ipynb\n",
      "importing Jupyter notebook from crypto_scrape.ipynb\n"
     ]
    }
   ],
   "source": [
    "import os\n",
    "import xlsxwriter\n",
    "import import_ipynb\n",
    "import polars as pl\n",
    "import coingecko_api as ca\n",
    "import crypto_scrape as cs\n",
    "from selenium import webdriver\n",
    "from selenium.webdriver.chrome.options import Options"
   ]
  },
  {
   "cell_type": "code",
   "execution_count": 2,
   "metadata": {},
   "outputs": [],
   "source": [
    "def create_excel(path: str, data: dict):\n",
    "    \"\"\"Creates an Excel file with dict of dataframes\"\"\"\n",
    "    with xlsxwriter.Workbook(path) as workbook:\n",
    "        for key, df in data.items():\n",
    "            workbook.add_worksheet(key)\n",
    "            df.write_excel(workbook=workbook, worksheet=key)"
   ]
  },
  {
   "cell_type": "code",
   "execution_count": 3,
   "metadata": {},
   "outputs": [],
   "source": [
    "def import_excel(path: str, names: list):\n",
    "    \"\"\"Create dict of dataframes from Excel sheets\"\"\"\n",
    "    data = {}\n",
    "    for name in names:\n",
    "        data[name] = pl.read_excel(\n",
    "            path, \n",
    "            sheet_name=name,\n",
    "            read_csv_options={\n",
    "                'infer_schema_length': 2000,\n",
    "                'dtypes': {'date': pl.Date}\n",
    "            }\n",
    "        )\n",
    "    return data"
   ]
  },
  {
   "cell_type": "code",
   "execution_count": 4,
   "metadata": {},
   "outputs": [],
   "source": [
    "# List of crypto symbols and IDs\n",
    "syms = ['btc', 'xrp', 'doge', 'ltc', 'xmr', 'bch', 'xlm', 'bsv', 'zec', 'dash']\n",
    "cids = ['bitcoin', 'ripple', 'dogecoin', 'litecoin', 'monero', 'bitcoin-cash', 'stellar', 'bitcoin-cash-sv', 'zcash', 'dash']\n",
    "\n",
    "# Variables for API call\n",
    "currency = 'usd'\n",
    "start_date = '2019/01/01'\n",
    "end_date = '2022/12/31'"
   ]
  },
  {
   "cell_type": "code",
   "execution_count": 5,
   "metadata": {},
   "outputs": [],
   "source": [
    "file_path = os.path.join(\"data/crypto/\", \"api-data.xlsx\")\n",
    "\n",
    "# Check if file already exists\n",
    "if not os.path.exists(file_path):\n",
    "    # Call the API and create dict of dataframes\n",
    "    api_data = ca.create_api_dict(syms, cids, currency, start_date, end_date)\n",
    "    # Create Excel file with API data\n",
    "    create_excel(file_path, api_data)"
   ]
  },
  {
   "cell_type": "code",
   "execution_count": 6,
   "metadata": {},
   "outputs": [],
   "source": [
    "# Set up Chrome headless options\n",
    "chrome_options = Options()\n",
    "chrome_options.add_argument('--headless')\n",
    "chrome_options.add_argument('--disable-gpu')\n",
    "\n",
    "# Set up the webdriver with the Chrome options\n",
    "driver = webdriver.Chrome(options=chrome_options)"
   ]
  },
  {
   "cell_type": "code",
   "execution_count": 7,
   "metadata": {},
   "outputs": [],
   "source": [
    "# Dict of token stats list for scraping\n",
    "token_stats = {\n",
    "    'btc': ['bitcoin-transactions', 'bitcoin-transactionvalue', 'bitcoin-mediantransactionvalue', 'bitcoin-transactionfees', 'bitcoin-median_transaction_fee'],\n",
    "    'xrp': ['xrp-transactions', 'transactionfees-xrp'],\n",
    "    'doge': ['dogecoin-transactions', 'dogecoin-transactionvalue', 'dogecoin-mediantransactionvalue', 'dogecoin-transactionfees', 'dogecoin-median_transaction_fee'],\n",
    "    'ltc': ['litecoin-transactions', 'litecoin-transactionvalue', 'litecoin-mediantransactionvalue', 'litecoin-transactionfees', 'litecoin-median_transaction_fee'],\n",
    "    'xmr': ['monero-transactions', 'monero-transactionfees'],\n",
    "    'bsv': ['transactions-bsv'],\n",
    "    'bch': ['bitcoin%20cash-transactions', 'bitcoin%20cash-transactionvalue', 'bitcoin%20cash-mediantransactionvalue', 'bitcoin%20cash-transactionfees', 'bitcoin%20cash-median_transaction_fee'],\n",
    "    'zec': ['zcash-transactions', 'zcash-transactionfees', 'transactionvalue-zec', 'mediantransactionvalue-zec'],\n",
    "    'dash': ['dash-transactions', 'dash-transactionfees', 'dash-median_transaction_fee', 'transactionvalue-dash', 'mediantransactionvalue-dash']\n",
    "}"
   ]
  },
  {
   "cell_type": "code",
   "execution_count": 8,
   "metadata": {},
   "outputs": [],
   "source": [
    "file_path = os.path.join(\"data/crypto/\", \"scraped-data.xlsx\")\n",
    "\n",
    "# Check if file already exists\n",
    "if not os.path.exists(file_path):\n",
    "    # Scrape BitInfoCharts and create dict of dataframes\n",
    "    scraped_data = cs.create_scrape_dict(token_stats, driver, start_date, end_date)\n",
    "    # Create Excel file with scraped data\n",
    "    create_excel(file_path, scraped_data)"
   ]
  },
  {
   "cell_type": "code",
   "execution_count": 9,
   "metadata": {},
   "outputs": [],
   "source": [
    "# Read filled Excel sheets into dataframes\n",
    "filled_api = import_excel(\n",
    "    'data/crypto/filled-api-data.xlsx', \n",
    "    syms\n",
    ")\n",
    "filled_scraped = import_excel(\n",
    "    'data/crypto/filled-scraped-data.xlsx', \n",
    "    ['btc', 'xrp_bit', 'xrp_mes', 'doge', 'ltc', 'xmr', 'bsv_bit', 'bsv_mes', 'bch', 'xlm', 'zec', 'dash']\n",
    ")"
   ]
  },
  {
   "cell_type": "code",
   "execution_count": 10,
   "metadata": {},
   "outputs": [],
   "source": [
    "# Fill missing dates in Messari data with null values\n",
    "for name in ['xrp_mes', 'bsv_mes', 'xlm']:\n",
    "    filled_scraped[name] = ca.fill_date(filled_scraped[name])"
   ]
  },
  {
   "cell_type": "code",
   "execution_count": 11,
   "metadata": {},
   "outputs": [],
   "source": [
    "# Merge XRP and BSV dataframes\n",
    "for name in ['xrp', 'bsv']:\n",
    "    filled_scraped[name] = filled_scraped[f'{name}_bit'].join(filled_scraped[f'{name}_mes'], on='date', how='inner')\n",
    "    # Calculate average_transaction_fees column\n",
    "    filled_scraped[name] = filled_scraped[name].with_columns((pl.col(\"total_fees\") / pl.col(\"transactions_count\")).alias(\"average_transaction_fees\"))\n",
    "    # Drop total_fees column\n",
    "    filled_scraped[name] = filled_scraped[name].drop('total_fees')"
   ]
  },
  {
   "cell_type": "code",
   "execution_count": 12,
   "metadata": {},
   "outputs": [],
   "source": [
    "# Merge API and scraped data\n",
    "combined_data = {}\n",
    "for name in syms:\n",
    "    combined_data[name] = filled_api[name].join(filled_scraped[name], on='date', how='inner')\n",
    "\n",
    "# Create Excel file with combined data\n",
    "file_path = os.path.join(\"data/crypto/\", \"combined-data.xlsx\")\n",
    "create_excel(file_path, combined_data)"
   ]
  },
  {
   "cell_type": "code",
   "execution_count": null,
   "metadata": {},
   "outputs": [],
   "source": []
  }
 ],
 "metadata": {
  "kernelspec": {
   "display_name": "venv",
   "language": "python",
   "name": "python3"
  },
  "language_info": {
   "codemirror_mode": {
    "name": "ipython",
    "version": 3
   },
   "file_extension": ".py",
   "mimetype": "text/x-python",
   "name": "python",
   "nbconvert_exporter": "python",
   "pygments_lexer": "ipython3",
   "version": "3.11.1"
  },
  "orig_nbformat": 4
 },
 "nbformat": 4,
 "nbformat_minor": 2
}
