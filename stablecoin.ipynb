{
 "cells": [
  {
   "cell_type": "code",
   "execution_count": 1,
   "metadata": {},
   "outputs": [
    {
     "name": "stdout",
     "output_type": "stream",
     "text": [
      "importing Jupyter notebook from general_fns.ipynb\n",
      "importing Jupyter notebook from coingecko_api.ipynb\n",
      "importing Jupyter notebook from owlracle_api.ipynb\n"
     ]
    }
   ],
   "source": [
    "import os\n",
    "import import_ipynb\n",
    "import polars as pl\n",
    "import general_fns as gf\n",
    "import coingecko_api as ca\n",
    "import owlracle_api as oa"
   ]
  },
  {
   "cell_type": "code",
   "execution_count": 2,
   "metadata": {},
   "outputs": [],
   "source": [
    "# List of stablecoin symbols and IDs\n",
    "syms = ['usdt', 'usdc', 'busd', 'dai', 'tusd', 'usdp', 'gusd']\n",
    "sids = ['tether', 'usd-coin', 'binance-usd', 'dai', 'true-usd', 'paxos-standard', 'gemini-dollar']\n",
    "\n",
    "# Variables for API call\n",
    "currency = 'usd'\n",
    "start_date = '2019/01/01'\n",
    "end_date = '2022/12/31'"
   ]
  },
  {
   "cell_type": "code",
   "execution_count": 3,
   "metadata": {},
   "outputs": [],
   "source": [
    "file_path = os.path.join(\"data/stablecoin/\", \"api-data.xlsx\")\n",
    "\n",
    "# Check if file already exists\n",
    "if not os.path.exists(file_path):\n",
    "    # Call the API and create dict of dataframes\n",
    "    api_data = ca.create_api_dict(syms, sids, currency, start_date, end_date)\n",
    "    # Create Excel file with API data\n",
    "    gf.create_excel(file_path, api_data)"
   ]
  },
  {
   "cell_type": "code",
   "execution_count": 4,
   "metadata": {},
   "outputs": [],
   "source": [
    "file_path = os.path.join(\"data/stablecoin/\", \"fees-data.xlsx\")\n",
    "\n",
    "# Check if file already exists\n",
    "if not os.path.exists(file_path):\n",
    "    # Call the API and create dict of dataframes\n",
    "    fees_data = oa.create_df(start_date, end_date)\n",
    "    # Create Excel file with API data\n",
    "    gf.create_excel(file_path, fees_data)"
   ]
  },
  {
   "cell_type": "code",
   "execution_count": null,
   "metadata": {},
   "outputs": [],
   "source": []
  }
 ],
 "metadata": {
  "kernelspec": {
   "display_name": "venv",
   "language": "python",
   "name": "python3"
  },
  "language_info": {
   "codemirror_mode": {
    "name": "ipython",
    "version": 3
   },
   "file_extension": ".py",
   "mimetype": "text/x-python",
   "name": "python",
   "nbconvert_exporter": "python",
   "pygments_lexer": "ipython3",
   "version": "3.11.1"
  },
  "orig_nbformat": 4
 },
 "nbformat": 4,
 "nbformat_minor": 2
}
