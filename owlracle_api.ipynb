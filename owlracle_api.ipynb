{
 "cells": [
  {
   "cell_type": "code",
   "execution_count": 112,
   "metadata": {},
   "outputs": [
    {
     "data": {
      "text/plain": [
       "True"
      ]
     },
     "execution_count": 112,
     "metadata": {},
     "output_type": "execute_result"
    }
   ],
   "source": [
    "import os\n",
    "import requests\n",
    "import polars as pl\n",
    "from statistics import mean\n",
    "from dotenv import load_dotenv\n",
    "from datetime import datetime, timezone, timedelta\n",
    "\n",
    "# Load environment variables from .env file\n",
    "load_dotenv(\".env\")"
   ]
  },
  {
   "cell_type": "code",
   "execution_count": 62,
   "metadata": {},
   "outputs": [],
   "source": [
    "def unix_time(date: str) -> float:\n",
    "    \"\"\"Take in date in string format and return UNIX timestamp float\"\"\"\n",
    "    stamp = datetime.strptime(date, '%Y/%m/%d %H:%M:%S')\n",
    "    return int(stamp.replace(tzinfo=timezone.utc).timestamp())"
   ]
  },
  {
   "cell_type": "code",
   "execution_count": 119,
   "metadata": {},
   "outputs": [],
   "source": [
    "def dates_between(start: str, end: str) -> list:\n",
    "    \"\"\"Return a list of first dates of each year, given a start and end\"\"\"\n",
    "    start_date = datetime.strptime(start, '%Y/%m/%d')\n",
    "    end_date = datetime.strptime(end, '%Y/%m/%d')\n",
    "    date_list = []\n",
    "\n",
    "    # Check if the start date is the first day of the year\n",
    "    if start_date.month == 1 and start_date.day == 1:\n",
    "        current_date = start_date\n",
    "    else:\n",
    "        # If not, use the first day of current year\n",
    "        current_date = start_date.replace(month=1, day=1)\n",
    "\n",
    "    while end_date > current_date:\n",
    "        # Add current date to the list of dates and replace the month and day to 1\n",
    "        date_list.append(current_date)\n",
    "        current_date = current_date.replace(month=1, day=1)\n",
    "        # Add one year from the current date and replace the month and day to 1\n",
    "        current_date = current_date.replace(year=current_date.year + 1, month=1, day=1)\n",
    "        \n",
    "    # Add first day of next year for end date\n",
    "    date_list.append(end_date.replace(year=end_date.year + 1, month=1, day=1))\n",
    "\n",
    "    # Return list of dates as strings\n",
    "    return [date.strftime('%Y/%m/%d') + ' 00:00:00' for date in date_list]"
   ]
  },
  {
   "cell_type": "code",
   "execution_count": 124,
   "metadata": {},
   "outputs": [],
   "source": [
    "def api_call(dates_list: list) -> dict:\n",
    "    \"\"\"Make a call to the Owlracle API and return historical gas JSON\"\"\"\n",
    "    key = os.getenv('OAPI')\n",
    "    results = {}    # Dict of JSON\n",
    "\n",
    "    # Loop over the list of dates in pairs using zip\n",
    "    for start_date, end_date in zip(dates_list, dates_list[1:]):\n",
    "        unix_start = unix_time(start_date)\n",
    "        unix_end = unix_time(end_date)\n",
    "    \n",
    "        # Make the API call with the start and end dates\n",
    "        res = requests.get(f'https://api.owlracle.info/v4/eth/history?apikey={key}&from={unix_start}&to={unix_end}&candles=365&timeframe=1d&txfee=true')\n",
    "        # Add the response JSON to the results dictionary with the year as the key\n",
    "        year = datetime.strptime(start_date, '%Y/%m/%d %H:%M:%S').year\n",
    "        results[year] = res.json()\n",
    "        \n",
    "    return results"
   ]
  },
  {
   "cell_type": "code",
   "execution_count": 184,
   "metadata": {},
   "outputs": [],
   "source": [
    "def extract_fees(json_data: dict) -> dict:\n",
    "    \"\"\"Extract the txFee from the JSON data, calculate the average gas fees, and return a single dictionary\"\"\"\n",
    "    txFees = {}\n",
    "    for year, data in json_data.items():\n",
    "        for candle in data['candles']:\n",
    "            # Extract the txFee from each candle and calculate the average\n",
    "            low = candle['txFee']['low']\n",
    "            high = candle['txFee']['high']\n",
    "            avg = mean([low, high])\n",
    "            \n",
    "            # Only add in dates from that year\n",
    "            date = candle['timestamp'].split('T')[0]\n",
    "            if date.startswith(str(year)):\n",
    "                txFees[date] = avg\n",
    "        \n",
    "    # Return combined dict in chronological order\n",
    "    return dict(sorted(txFees.items(), key=lambda x: x[0]))"
   ]
  },
  {
   "cell_type": "code",
   "execution_count": null,
   "metadata": {},
   "outputs": [],
   "source": []
  }
 ],
 "metadata": {
  "kernelspec": {
   "display_name": "venv",
   "language": "python",
   "name": "python3"
  },
  "language_info": {
   "codemirror_mode": {
    "name": "ipython",
    "version": 3
   },
   "file_extension": ".py",
   "mimetype": "text/x-python",
   "name": "python",
   "nbconvert_exporter": "python",
   "pygments_lexer": "ipython3",
   "version": "3.11.1"
  },
  "orig_nbformat": 4
 },
 "nbformat": 4,
 "nbformat_minor": 2
}
