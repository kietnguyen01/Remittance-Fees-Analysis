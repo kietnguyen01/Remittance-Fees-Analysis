{
 "cells": [
  {
   "cell_type": "code",
   "execution_count": 1,
   "metadata": {},
   "outputs": [],
   "source": [
    "%run crypto_fns.ipynb\n",
    "import os\n",
    "import xlsxwriter\n",
    "import ipynb.fs.full.crypto_fns as cf"
   ]
  },
  {
   "cell_type": "code",
   "execution_count": 2,
   "metadata": {},
   "outputs": [],
   "source": [
    "# List of crypto symbols and IDs\n",
    "syms = ['btc', 'xrp', 'doge', 'ltc', 'xmr', 'bch', 'xlm', 'algo', 'bsv', 'zec', 'dash']\n",
    "cids = ['bitcoin', 'ripple', 'dogecoin', 'litecoin', 'monero', 'bitcoin-cash', 'stellar', 'bitcoin-cash-sv', 'zcash', 'dash']\n",
    "\n",
    "# Variables for API call\n",
    "currency = 'usd'\n",
    "start_date = '01/01/2019'\n",
    "end_date = '12/31/2022'"
   ]
  },
  {
   "cell_type": "code",
   "execution_count": 3,
   "metadata": {},
   "outputs": [],
   "source": [
    "# Create dictionary of crypto dataframes\n",
    "crypto = cf.create_crypto_dict(syms, cids, currency, start_date, end_date)"
   ]
  },
  {
   "cell_type": "code",
   "execution_count": 4,
   "metadata": {},
   "outputs": [],
   "source": [
    "# File path to data folder\n",
    "file_path = os.path.join(\"data\", \"crypto.xlsx\")\n",
    "# Write crypto data to Excel file\n",
    "with xlsxwriter.Workbook(file_path) as workbook:\n",
    "    for key, df in crypto.items():\n",
    "        worksheet = workbook.add_worksheet(key)\n",
    "        df.write_excel(workbook=workbook, worksheet=key)"
   ]
  },
  {
   "cell_type": "code",
   "execution_count": null,
   "metadata": {},
   "outputs": [],
   "source": []
  }
 ],
 "metadata": {
  "kernelspec": {
   "display_name": "venv",
   "language": "python",
   "name": "python3"
  },
  "language_info": {
   "codemirror_mode": {
    "name": "ipython",
    "version": 3
   },
   "file_extension": ".py",
   "mimetype": "text/x-python",
   "name": "python",
   "nbconvert_exporter": "python",
   "pygments_lexer": "ipython3",
   "version": "3.11.1"
  },
  "orig_nbformat": 4
 },
 "nbformat": 4,
 "nbformat_minor": 2
}
