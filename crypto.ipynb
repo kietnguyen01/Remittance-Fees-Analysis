{
 "cells": [
  {
   "cell_type": "code",
   "execution_count": 1,
   "metadata": {},
   "outputs": [
    {
     "name": "stdout",
     "output_type": "stream",
     "text": [
      "importing Jupyter notebook from c:\\Users\\nguye\\Documents\\Sonderium\\Projects\\Remittance-Fees-Analysis\\rfa_utils\\general_fns.ipynb\n",
      "importing Jupyter notebook from c:\\Users\\nguye\\Documents\\Sonderium\\Projects\\Remittance-Fees-Analysis\\rfa_utils\\clean_crypto.ipynb\n",
      "importing Jupyter notebook from c:\\Users\\nguye\\Documents\\Sonderium\\Projects\\Remittance-Fees-Analysis\\rfa_utils\\coingecko_api.ipynb\n",
      "importing Jupyter notebook from c:\\Users\\nguye\\Documents\\Sonderium\\Projects\\Remittance-Fees-Analysis\\rfa_utils\\crypto_scrape.ipynb\n"
     ]
    }
   ],
   "source": [
    "import os\n",
    "import import_ipynb\n",
    "import rfa_utils.general_fns as gf\n",
    "import rfa_utils.clean_crypto as cc\n",
    "import rfa_utils.coingecko_api as ca\n",
    "import rfa_utils.crypto_scrape as cs\n",
    "from selenium import webdriver\n",
    "from selenium.webdriver.chrome.options import Options"
   ]
  },
  {
   "cell_type": "code",
   "execution_count": 2,
   "metadata": {},
   "outputs": [],
   "source": [
    "# List of crypto symbols and IDs\n",
    "syms = ['btc', 'xrp', 'doge', 'ltc', 'xmr', 'bch', 'xlm', 'bsv', 'zec', 'dash']\n",
    "cids = ['bitcoin', 'ripple', 'dogecoin', 'litecoin', 'monero', 'bitcoin-cash', 'stellar', 'bitcoin-cash-sv', 'zcash', 'dash']\n",
    "\n",
    "# Variables for API call\n",
    "currency = 'usd'\n",
    "start_date = '2019/01/01'\n",
    "end_date = '2022/12/31'"
   ]
  },
  {
   "cell_type": "code",
   "execution_count": 3,
   "metadata": {},
   "outputs": [],
   "source": [
    "# Check and create API data\n",
    "api_path = os.path.join('data/crypto/', 'api-data.xlsx')\n",
    "gf.check_and_create(api_path, ca.create_api_dict, syms, cids, currency, start_date, end_date)"
   ]
  },
  {
   "cell_type": "code",
   "execution_count": 4,
   "metadata": {},
   "outputs": [],
   "source": [
    "# Set up Chrome headless options\n",
    "chrome_options = Options()\n",
    "chrome_options.add_argument('--headless')\n",
    "chrome_options.add_argument('--disable-gpu')\n",
    "\n",
    "# Set up the webdriver with the Chrome options\n",
    "driver = webdriver.Chrome(options=chrome_options)"
   ]
  },
  {
   "cell_type": "code",
   "execution_count": 5,
   "metadata": {},
   "outputs": [],
   "source": [
    "# Dict of token stats list for scraping\n",
    "token_stats = {\n",
    "    'btc': ['bitcoin-transactions', 'bitcoin-transactionvalue', 'bitcoin-mediantransactionvalue', 'bitcoin-transactionfees', 'bitcoin-median_transaction_fee'],\n",
    "    'xrp': ['xrp-transactions', 'transactionfees-xrp'],\n",
    "    'doge': ['dogecoin-transactions', 'dogecoin-transactionvalue', 'dogecoin-mediantransactionvalue', 'dogecoin-transactionfees', 'dogecoin-median_transaction_fee'],\n",
    "    'ltc': ['litecoin-transactions', 'litecoin-transactionvalue', 'litecoin-mediantransactionvalue', 'litecoin-transactionfees', 'litecoin-median_transaction_fee'],\n",
    "    'xmr': ['monero-transactions', 'monero-transactionfees'],\n",
    "    'bsv': ['transactions-bsv'],\n",
    "    'bch': ['bitcoin%20cash-transactions', 'bitcoin%20cash-transactionvalue', 'bitcoin%20cash-mediantransactionvalue', 'bitcoin%20cash-transactionfees', 'bitcoin%20cash-median_transaction_fee'],\n",
    "    'zec': ['zcash-transactions', 'zcash-transactionfees', 'transactionvalue-zec', 'mediantransactionvalue-zec'],\n",
    "    'dash': ['dash-transactions', 'dash-transactionfees', 'dash-median_transaction_fee', 'transactionvalue-dash', 'mediantransactionvalue-dash']\n",
    "}"
   ]
  },
  {
   "cell_type": "code",
   "execution_count": 6,
   "metadata": {},
   "outputs": [],
   "source": [
    "# Check and create scraped data\n",
    "scrape_path = os.path.join('data/crypto/', 'scraped-data.xlsx')\n",
    "gf.check_and_create(scrape_path, cs.create_scrape_dict, token_stats, driver, start_date, end_date)"
   ]
  },
  {
   "cell_type": "code",
   "execution_count": 7,
   "metadata": {},
   "outputs": [],
   "source": [
    "# Check and create combined Excel file\n",
    "combined_path = os.path.join('data/crypto/', 'combined-data.xlsx')\n",
    "if not os.path.exists(combined_path):\n",
    "    # List of scraped Excel sheets\n",
    "    scraped_sheets = ['btc', 'xrp_bit', 'xrp_mes', 'doge', 'ltc', 'xmr', 'bsv_bit', 'bsv_mes', 'bch', 'xlm', 'zec', 'dash']\n",
    "    # Read filled Excel sheets into dataframes\n",
    "    filled_api = gf.import_excel(\n",
    "        'data/crypto/filled-api-data.xlsx',\n",
    "        syms\n",
    "    )\n",
    "    filled_scraped = gf.import_excel(\n",
    "        'data/crypto/filled-scraped-data.xlsx',\n",
    "        scraped_sheets\n",
    "    )\n",
    "    gf.check_and_create(combined_path, cc.merge_api_scraped, filled_api, filled_scraped, syms)"
   ]
  },
  {
   "cell_type": "code",
   "execution_count": 9,
   "metadata": {},
   "outputs": [],
   "source": [
    "# Check and create imputed file\n",
    "imputed_path = os.path.join('data/crypto/', 'imputed-data.xlsx')\n",
    "if not os.path.exists(imputed_path):\n",
    "    combined = gf.import_excel(\n",
    "        combined_path,\n",
    "        syms\n",
    "    )\n",
    "    # Impute missing columns with miceforest\n",
    "    gf.check_and_create(imputed_path, cc.impute_dfs, combined)"
   ]
  },
  {
   "cell_type": "code",
   "execution_count": null,
   "metadata": {},
   "outputs": [],
   "source": []
  }
 ],
 "metadata": {
  "kernelspec": {
   "display_name": "venv",
   "language": "python",
   "name": "python3"
  },
  "language_info": {
   "codemirror_mode": {
    "name": "ipython",
    "version": 3
   },
   "file_extension": ".py",
   "mimetype": "text/x-python",
   "name": "python",
   "nbconvert_exporter": "python",
   "pygments_lexer": "ipython3",
   "version": "3.11.1"
  },
  "orig_nbformat": 4
 },
 "nbformat": 4,
 "nbformat_minor": 2
}
