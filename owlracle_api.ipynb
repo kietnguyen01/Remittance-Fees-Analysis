{
 "cells": [
  {
   "cell_type": "code",
   "execution_count": 1,
   "metadata": {},
   "outputs": [
    {
     "data": {
      "text/plain": [
       "True"
      ]
     },
     "execution_count": 1,
     "metadata": {},
     "output_type": "execute_result"
    }
   ],
   "source": [
    "import os\n",
    "import requests\n",
    "import polars as pl\n",
    "from statistics import mean\n",
    "from dotenv import load_dotenv\n",
    "from datetime import datetime, timezone\n",
    "\n",
    "# Load environment variables from .env file\n",
    "load_dotenv(\".env\")"
   ]
  },
  {
   "cell_type": "code",
   "execution_count": 2,
   "metadata": {},
   "outputs": [],
   "source": [
    "def unix_time(date: str) -> float:\n",
    "    \"\"\"Take in date in string format and return UNIX timestamp float\"\"\"\n",
    "    stamp = datetime.strptime(date, '%Y/%m/%d %H:%M:%S')\n",
    "    return int(stamp.replace(tzinfo=timezone.utc).timestamp())"
   ]
  },
  {
   "cell_type": "code",
   "execution_count": 3,
   "metadata": {},
   "outputs": [],
   "source": [
    "def dates_between(start: str, end: str) -> list:\n",
    "    \"\"\"Return a list of first dates of each year, given a start and end\"\"\"\n",
    "    start_date = datetime.strptime(start, '%Y/%m/%d')\n",
    "    end_date = datetime.strptime(end, '%Y/%m/%d')\n",
    "    date_list = []\n",
    "\n",
    "    # Check if the start date is the first day of the year\n",
    "    if start_date.month == 1 and start_date.day == 1:\n",
    "        current_date = start_date\n",
    "    else:\n",
    "        # If not, use the first day of current year\n",
    "        current_date = start_date.replace(month=1, day=1)\n",
    "\n",
    "    while end_date > current_date:\n",
    "        # Add current date to the list of dates and replace the month and day to 1\n",
    "        date_list.append(current_date)\n",
    "        current_date = current_date.replace(month=1, day=1)\n",
    "        # Add one year from the current date and replace the month and day to 1\n",
    "        current_date = current_date.replace(year=current_date.year + 1, month=1, day=1)\n",
    "        \n",
    "    # Add first day of next year for end date\n",
    "    date_list.append(end_date.replace(year=end_date.year + 1, month=1, day=1))\n",
    "\n",
    "    # Return list of dates as strings\n",
    "    return [date.strftime('%Y/%m/%d') + ' 00:00:00' for date in date_list]"
   ]
  },
  {
   "cell_type": "code",
   "execution_count": 4,
   "metadata": {},
   "outputs": [],
   "source": [
    "def api_call(dates_list: list) -> dict:\n",
    "    \"\"\"Make a call to the Owlracle API and return historical gas JSON\"\"\"\n",
    "    key = os.getenv('OAPI')\n",
    "    results = {}    # Dict of JSON\n",
    "\n",
    "    # Loop over the list of dates in pairs using zip\n",
    "    for start_date, end_date in zip(dates_list, dates_list[1:]):\n",
    "        unix_start = unix_time(start_date)\n",
    "        unix_end = unix_time(end_date)\n",
    "    \n",
    "        # Make the API call with the start and end dates\n",
    "        res = requests.get(f'https://api.owlracle.info/v4/eth/history?apikey={key}&from={unix_start}&to={unix_end}&candles=365&timeframe=1d&txfee=true')\n",
    "        # Add the response JSON to the results dictionary with the year as the key\n",
    "        year = datetime.strptime(start_date, '%Y/%m/%d %H:%M:%S').year\n",
    "        results[year] = res.json()\n",
    "        \n",
    "    return results"
   ]
  },
  {
   "cell_type": "code",
   "execution_count": 5,
   "metadata": {},
   "outputs": [],
   "source": [
    "def extract_fee(candle: dict) -> float:\n",
    "    \"\"\"Extract the txFee from the given candle and return the average\"\"\"\n",
    "    low_fee = candle['txFee']['low']\n",
    "    high_fee = candle['txFee']['high']\n",
    "    return mean([low_fee, high_fee])"
   ]
  },
  {
   "cell_type": "code",
   "execution_count": 6,
   "metadata": {},
   "outputs": [],
   "source": [
    "def extract_gas(candle: dict) -> float:\n",
    "    \"\"\"Extract the gasPrice from the given candle and return the average\"\"\"\n",
    "    low_price = candle['gasPrice']['low']\n",
    "    high_price = candle['gasPrice']['high']\n",
    "    return mean([low_price, high_price])"
   ]
  },
  {
   "cell_type": "code",
   "execution_count": 7,
   "metadata": {},
   "outputs": [],
   "source": [
    "def extract_json(json_data: dict) -> dict:\n",
    "    \"\"\"Extract the txFee and the gasPrice from the JSON data, calculate the average\n",
    "    Return a dict containing three lists: dates, transaction_fees, and gas_prices\"\"\"\n",
    "    result = {}\n",
    "    dates = []\n",
    "    transaction_fees = []\n",
    "    gas_prices = []\n",
    "    for year, data in json_data.items():\n",
    "        for candle in data['candles']:\n",
    "            # Extract txFee and gasPrice from candle\n",
    "            avg_fee = extract_fee(candle)\n",
    "            avg_price = extract_gas(candle)\n",
    "            \n",
    "            # Only add in data from the current year\n",
    "            date = candle['timestamp'].split('T')[0]\n",
    "            if date.startswith(str(year)):\n",
    "                dates.append(date)\n",
    "                transaction_fees.append(avg_fee)\n",
    "                gas_prices.append(avg_price)\n",
    "        \n",
    "    # Add the sorted dates, fees, and prices lists to the result dict\n",
    "    result[\"date\"] = sorted([datetime.strptime(date, '%Y-%m-%d').date() for date in dates])\n",
    "    result[\"transaction_fees\"] = [x for _, x in sorted(zip(dates, transaction_fees))]\n",
    "    result[\"gas_prices\"] = [x for _, x in sorted(zip(dates, gas_prices))]\n",
    "    \n",
    "    return result"
   ]
  },
  {
   "cell_type": "code",
   "execution_count": 8,
   "metadata": {},
   "outputs": [],
   "source": [
    "def fill_date(df: pl.DataFrame):\n",
    "    \"\"\"Fill in missing date row with null values\"\"\"\n",
    "    df = df.set_sorted('date')\n",
    "    df = df.upsample(time_column='date', every='1d')\n",
    "    return df"
   ]
  },
  {
   "cell_type": "code",
   "execution_count": 9,
   "metadata": {},
   "outputs": [],
   "source": [
    "def create_df(start: str, end: str) -> pl.DataFrame:\n",
    "    \"\"\"Create a Polars DataFrame from the Owlracle API data between the given start and end dates\"\"\"\n",
    "    between = dates_between(start, end)\n",
    "    json = api_call(between)\n",
    "    extracted = extract_json(json)\n",
    "    df = pl.DataFrame(extracted)\n",
    "    return fill_date(df)"
   ]
  }
 ],
 "metadata": {
  "kernelspec": {
   "display_name": "venv",
   "language": "python",
   "name": "python3"
  },
  "language_info": {
   "codemirror_mode": {
    "name": "ipython",
    "version": 3
   },
   "file_extension": ".py",
   "mimetype": "text/x-python",
   "name": "python",
   "nbconvert_exporter": "python",
   "pygments_lexer": "ipython3",
   "version": "3.11.1"
  },
  "orig_nbformat": 4
 },
 "nbformat": 4,
 "nbformat_minor": 2
}
